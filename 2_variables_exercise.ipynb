{
 "cells": [
  {
   "cell_type": "markdown",
   "metadata": {},
   "source": [
    "Exercise: Python Variables\n",
    "Create a variable called break and assign it a value 5. See what happens and find out the reason behind the behavior that you see.\n",
    "\n",
    "Create two variables. One to store your birth year and another one to store current year. Now calculate your age using these two variables\n",
    "\n",
    "Store your first, middle and last name in three different variables and then print your full name using these variables\n",
    "\n",
    "Answer which of these are invalid variable names: _nation 1record record1 record_one record-one record^one continue"
   ]
  },
  {
   "cell_type": "code",
   "execution_count": null,
   "metadata": {},
   "outputs": [],
   "source": []
  }
 ],
 "metadata": {
  "language_info": {
   "name": "python"
  }
 },
 "nbformat": 4,
 "nbformat_minor": 2
}
